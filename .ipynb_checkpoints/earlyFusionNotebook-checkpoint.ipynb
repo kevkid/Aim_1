{
 "cells": [
  {
   "cell_type": "markdown",
   "metadata": {},
   "source": [
    "# Multimodal Fusion: Early Fusion"
   ]
  },
  {
   "cell_type": "markdown",
   "metadata": {},
   "source": [
    "# Section 0: Import modules, set variables, load functions "
   ]
  },
  {
   "cell_type": "code",
   "execution_count": 1,
   "metadata": {
    "scrolled": true
   },
   "outputs": [
    {
     "name": "stderr",
     "output_type": "stream",
     "text": [
      "Using TensorFlow backend.\n"
     ]
    }
   ],
   "source": [
    "import os\n",
    "import numpy as np\n",
    "import pandas as pd\n",
    "from keras import backend as K\n",
    "from sklearn.metrics import confusion_matrix    \n",
    "from sklearn import metrics\n",
    "from keras.models import Model\n",
    "from keras.layers import Dense, Reshape, concatenate, Lambda, Average, Maximum, Add, Multiply, Concatenate, BatchNormalization, Activation\n",
    "from keras.callbacks import ModelCheckpoint, ReduceLROnPlateau, EarlyStopping\n",
    "from keras.layers.embeddings import Embedding\n",
    "from keras.engine.input_layer import Input\n",
    "from keras.optimizers import Adam\n",
    "from utils import *\n",
    "from keras.activations import relu\n",
    "from sklearn.model_selection import StratifiedKFold\n",
    "import random\n",
    "import dill\n",
    "import matplotlib.pyplot as plt\n",
    "from scipy import ndimage\n",
    "from IPython.display import SVG\n",
    "from keras.utils.vis_utils import model_to_dot\n",
    "from PIL import Image\n",
    "import io\n",
    "from keras.utils.training_utils import multi_gpu_model\n",
    "import tensorflow as tf\n",
    "import matplotlib.pyplot as plt\n",
    "from scipy import ndimage\n",
    "from IPython.display import SVG\n",
    "from keras.utils.vis_utils import model_to_dot\n",
    "from PIL import Image\n",
    "import io"
   ]
  },
  {
   "cell_type": "code",
   "execution_count": 2,
   "metadata": {},
   "outputs": [
    {
     "name": "stdout",
     "output_type": "stream",
     "text": [
      "['/job:localhost/replica:0/task:0/device:GPU:0', '/job:localhost/replica:0/task:0/device:GPU:1']\n"
     ]
    }
   ],
   "source": [
    "from keras import backend as K\n",
    "print(K.tensorflow_backend._get_available_gpus())\n",
    "G = len(K.tensorflow_backend._get_available_gpus())"
   ]
  },
  {
   "cell_type": "code",
   "execution_count": 3,
   "metadata": {},
   "outputs": [
    {
     "name": "stdout",
     "output_type": "stream",
     "text": [
      "[nltk_data] Downloading package punkt to /home/kl533/nltk_data...\n",
      "[nltk_data]   Package punkt is already up-to-date!\n",
      "[nltk_data] Downloading package stopwords to /home/kl533/nltk_data...\n",
      "[nltk_data]   Package stopwords is already up-to-date!\n"
     ]
    }
   ],
   "source": [
    "SRC = 'PMC'\n",
    "\n",
    "if SRC=='PMC':\n",
    "    CLASSES = {0: 'bar', 1: 'gel', 2: 'map', 3: 'network', 4: 'plot',\n",
    "             5: 'text', 6: 'box', 7: 'heatmap',8: 'medical', 9: 'nxmls', 10: 'screenshot',\n",
    "             11: 'topology', 12: 'diagram', 13: 'histology', 14: 'microscopy',\n",
    "             15: 'photo', 16: 'sequence', 17: 'tree', 18: 'fluorescence', 19: 'line',\n",
    "             20: 'molecular', 21: 'pie', 22: 'table'}\n",
    "    \n",
    "    class_names = ['bar', 'gel', 'network', 'plot', 'histology', 'sequence',\n",
    "                               'line', 'molecular']\n",
    "else:\n",
    "    class_names = ['cat','dog']\n",
    "num_class = len(class_names)\n",
    "NN_Class_Names = dict(enumerate(class_names))\n",
    "test_size = 0.2\n",
    "epochs = 150\n",
    "bs=150\n",
    "#Set parameters\n",
    "create_word_vec = False\n",
    "w2v_epochs = 20\n",
    "w2v_window_size=5\n",
    "w2v_filters=''\n",
    "seed = 0\n",
    "max_text_len = 200\n",
    "vocabulary_size = 10000\n",
    "csv_fname = 'image_list.csv'\n",
    "coco_loc = '/home/kevin/Documents/Lab/coco_dataset'\n",
    "pmc_loc = '/gpfs/ysm/pi/krauthammer/kl533/'\n",
    "filters = ''\n",
    "use_glove = False\n",
    "LOAD_IMG_MODEL_WEIGHTS = False\n",
    "LOAD_TXT_MODEL_WEIGHTS = False\n",
    "CHANNELS = 3#should be either 3 or 1 for the number of channels\n",
    "shape = (100,100,CHANNELS)#image shape\n",
    "embedding_output_dim = 100\n",
    "reduce_lr = ReduceLROnPlateau(monitor='val_loss', factor=0.2, patience=5, min_lr=1e-6, verbose=1)\n",
    "early_stopping = EarlyStopping(monitor='loss', min_delta=0, patience=10, verbose=0, mode='auto', baseline=None)\n",
    "nltk.download('punkt')\n",
    "nltk.download('stopwords')\n",
    "plt.rcParams[\"figure.dpi\"] = 600\n",
    "n_splits = 5"
   ]
  },
  {
   "cell_type": "code",
   "execution_count": 4,
   "metadata": {},
   "outputs": [],
   "source": [
    "def Generate_Model(model_type = \"multimodal\"):\n",
    "    #set up our text input\n",
    "    if model_type == \"multimodal\":\n",
    "        input_text = Input(shape=(max_text_len,), name='text_input')\n",
    "        embedding = Embedding(input_length=max_text_len, input_dim=vocabulary_size, output_dim=embedding_output_dim, \n",
    "                               name='embedding_layer', trainable=False, weights=[embedding_weights])\n",
    "        embedded_text = embedding(input_text)\n",
    "        text_embedding = Lambda(embedding_3Ch)(embedded_text)\n",
    "        #set up our image input\n",
    "        image_input = Input(shape, name='image_input')\n",
    "        '''merge our data for early fusion. Essentially we are just concatenating our data together'''\n",
    "        merged = concatenate([text_embedding, image_input], axis=1, name='merged')\n",
    "        x = get_img_branch()(merged)\n",
    "        x = Dense(1024, activation='relu', name='dense_layer1')(x)\n",
    "        x = BatchNormalization()(x)\n",
    "        x = Dropout(0.5)(x)        \n",
    "        x = Dense(512, activation='relu', name='dense_layer2')(x)\n",
    "        x = BatchNormalization()(x)\n",
    "        x = Dropout(0.5)(x)\n",
    "        output = Dense(num_class, activation='softmax', name='output')(x)\n",
    "        classificationModel = Model(inputs=[input_text, image_input], outputs=[output])\n",
    "    if G > 1:\n",
    "        classificationModel = get_multi_gpu_model(classificationModel, G)\n",
    "    return classificationModel"
   ]
  },
  {
   "cell_type": "markdown",
   "metadata": {},
   "source": [
    "# Section 1: Initalize variables and load data"
   ]
  },
  {
   "cell_type": "code",
   "execution_count": 5,
   "metadata": {},
   "outputs": [
    {
     "name": "stdout",
     "output_type": "stream",
     "text": [
      "Getting Data\n"
     ]
    }
   ],
   "source": [
    "# Load our data from source\n",
    "\n",
    "print('Getting Data')\n",
    "if SRC == 'PMC':\n",
    "    image_classes = [list(CLASSES.keys())[list(CLASSES.values()).index(x)] for \n",
    "                 x in class_names]  \n",
    "    data = load_PMC(csv_fname, image_classes, uniform=True)\n",
    "    #dynamically add location of files\n",
    "    data['location'] = pmc_loc + data['location'].astype(str)\n",
    "else:\n",
    "    data = load_COCO(coco_loc, class_names=class_names)"
   ]
  },
  {
   "cell_type": "markdown",
   "metadata": {},
   "source": [
    "## Optional: Create embeddings"
   ]
  },
  {
   "cell_type": "code",
   "execution_count": 6,
   "metadata": {},
   "outputs": [],
   "source": [
    "#%%Section 0.5 create embeddings - Optional\n",
    "if create_word_vec:\n",
    "    print('Section 0.5: create embeddings')\n",
    "    from w2v_keras import w2v_keras\n",
    "    w2v = w2v_keras(vocabulary_size=vocabulary_size, window_size=w2v_window_size, filters=w2v_filters, vector_dim = embedding_output_dim)\n",
    "    w2v.fit(data['caption'], epochs=w2v_epochs)\n",
    "    w2v.save_embeddings('w2v_embeddings.json')"
   ]
  },
  {
   "cell_type": "markdown",
   "metadata": {},
   "source": [
    "# Section 2: K-Fold Validation"
   ]
  },
  {
   "cell_type": "markdown",
   "metadata": {},
   "source": [
    "### Get data into format our model understands"
   ]
  },
  {
   "cell_type": "code",
   "execution_count": 7,
   "metadata": {},
   "outputs": [
    {
     "name": "stdout",
     "output_type": "stream",
     "text": [
      "filtering sentences\n",
      "filtering sents and removing stopwords\n",
      "filtering sentences\n",
      "filtering sents and removing stopwords\n"
     ]
    },
    {
     "name": "stderr",
     "output_type": "stream",
     "text": [
      "/home/kl533/.local/lib/python3.6/site-packages/sklearn/preprocessing/_encoders.py:363: FutureWarning: The handling of integer data will change in version 0.22. Currently, the categories are determined based on the range [0, max(values)], while in the future they will be determined based on the unique values.\n",
      "If you want the future behaviour and silence this warning, you can specify \"categories='auto'\".\n",
      "In case you used a LabelEncoder before this OneHotEncoder to convert the categories to integers, then you can now use the OneHotEncoder directly.\n",
      "  warnings.warn(msg, FutureWarning)\n"
     ]
    }
   ],
   "source": [
    "#Get all data to kfoldsplit\n",
    "X_text, X_image, y, tokenizer = get_model_data(data, seed=seed, test_size = test_size, \n",
    "                vocabulary_size = vocabulary_size, filters = filters, \n",
    "                max_text_len=max_text_len, shape=shape, split=True)\n",
    "X_text = np.array(X_text)#need to fix this!!!!!!!!!!!!!!!!!!!!!!!!!!!"
   ]
  },
  {
   "cell_type": "markdown",
   "metadata": {},
   "source": [
    "### Load our word embeddings"
   ]
  },
  {
   "cell_type": "code",
   "execution_count": 8,
   "metadata": {},
   "outputs": [],
   "source": [
    "#%% Section 1.5: Load word embeddings\n",
    "if use_glove:\n",
    "    embedding_weights = load_glove('/home/kevin/Downloads', \n",
    "                        take(vocabulary_size, tokenizer.word_index.items()))\n",
    "elif create_word_vec:#get weights from w2v model directly if trained.\n",
    "    embedding_weights = mapTokensToEmbedding(w2v.get_embeddings(), \n",
    "                                             tokenizer.word_index, vocabulary_size)\n",
    "else:\n",
    "    #load embedding weights from file\n",
    "    location = 'w2v_embeddings.json'\n",
    "    import json\n",
    "    with open(location) as f:\n",
    "        embs = json.load(f)\n",
    "        emb = json.loads(embs)\n",
    "    embedding_weights = mapTokensToEmbedding(emb, tokenizer.word_index, \n",
    "                                             vocabulary_size)"
   ]
  },
  {
   "cell_type": "markdown",
   "metadata": {},
   "source": [
    "### Lets visualize our models:"
   ]
  },
  {
   "cell_type": "code",
   "execution_count": 9,
   "metadata": {
    "scrolled": true
   },
   "outputs": [
    {
     "data": {
      "text/plain": [
       "Text(0.5, 1.0, 'Image + Text')"
      ]
     },
     "execution_count": 9,
     "metadata": {},
     "output_type": "execute_result"
    },
    {
     "data": {
      "image/png": "[encoded data removed]",
      "text/plain": [
       "<Figure size 3600x2400 with 1 Axes>"
      ]
     },
     "metadata": {
      "needs_background": "light"
     },
     "output_type": "display_data"
    }
   ],
   "source": [
    "G_bak = G\n",
    "G = 1\n",
    "text_image_model_vis = Generate_Model(model_type='multimodal')\n",
    "name = 'Image + Text'\n",
    "G = G_bak\n",
    "model_list = {name: text_image_model_vis}\n",
    "plt.rcParams[\"figure.dpi\"] = 600\n",
    "fig,ax = plt.subplots(1,len(model_list))\n",
    "\n",
    "x = model_to_dot(text_image_model_vis)\n",
    "x.set_dpi(600)\n",
    "x = x.create(prog='dot', format='png')\n",
    "x_ = plt.imread(io.BytesIO(x))\n",
    "ax.imshow(x_)\n",
    "ax.axis(\"off\")\n",
    "ax.set_title(name)"
   ]
  },
  {
   "cell_type": "markdown",
   "metadata": {},
   "source": [
    "### Load our folds from disk"
   ]
  },
  {
   "cell_type": "code",
   "execution_count": 10,
   "metadata": {},
   "outputs": [],
   "source": [
    "#load to dict to be used\n",
    "with open('folds.json') as f:\n",
    "    kfolds = json.load(f)\n"
   ]
  },
  {
   "cell_type": "markdown",
   "metadata": {},
   "source": [
    "### K-Fold validation Multimodal: text and images"
   ]
  },
  {
   "cell_type": "code",
   "execution_count": 11,
   "metadata": {},
   "outputs": [
    {
     "name": "stdout",
     "output_type": "stream",
     "text": [
      "fold_1\n",
      "K-: fold_1\n",
      "[INFO] training with 2 GPUs...\n",
      "Train on 2260 samples, validate on 252 samples\n",
      "Epoch 1/150\n",
      "2260/2260 [==============================] - 16s 7ms/step - loss: 2.4856 - acc: 0.2841 - val_loss: 7.0186 - val_acc: 0.2262\n",
      "\n",
      "Epoch 00001: val_acc improved from -inf to 0.22619, saving model to early_fusion_weights/best_weight_image_text_k-fold_1.hdf5\n",
      "Epoch 2/150\n",
      "2260/2260 [==============================] - 8s 3ms/step - loss: 2.0837 - acc: 0.3704 - val_loss: 8.2176 - val_acc: 0.2302\n",
      "\n",
      "Epoch 00002: val_acc improved from 0.22619 to 0.23016, saving model to early_fusion_weights/best_weight_image_text_k-fold_1.hdf5\n",
      "Epoch 3/150\n",
      "2260/2260 [==============================] - 8s 3ms/step - loss: 1.9267 - acc: 0.3796 - val_loss: 10.7144 - val_acc: 0.1468\n",
      "\n",
      "Epoch 00003: val_acc did not improve from 0.23016\n",
      "Epoch 4/150\n",
      "2260/2260 [==============================] - 8s 3ms/step - loss: 1.8891 - acc: 0.3881 - val_loss: 4.8686 - val_acc: 0.2619\n",
      "\n",
      "Epoch 00004: val_acc improved from 0.23016 to 0.26190, saving model to early_fusion_weights/best_weight_image_text_k-fold_1.hdf5\n",
      "Epoch 5/150\n",
      "2260/2260 [==============================] - 7s 3ms/step - loss: 1.7136 - acc: 0.4416 - val_loss: 2.5196 - val_acc: 0.3889\n",
      "\n",
      "Epoch 00005: val_acc improved from 0.26190 to 0.38889, saving model to early_fusion_weights/best_weight_image_text_k-fold_1.hdf5\n",
      "Epoch 6/150\n",
      "1350/2260 [================>.............] - ETA: 2s - loss: 1.5211 - acc: 0.4652"
     ]
    },
    {
     "ename": "KeyboardInterrupt",
     "evalue": "",
     "output_type": "error",
     "traceback": [
      "\u001b[0;31m---------------------------------------------------------------------------\u001b[0m",
      "\u001b[0;31mKeyboardInterrupt\u001b[0m                         Traceback (most recent call last)",
      "\u001b[0;32m<ipython-input-11-8b5ef5fde287>\u001b[0m in \u001b[0;36m<module>\u001b[0;34m()\u001b[0m\n\u001b[1;32m     37\u001b[0m \u001b[0;34m\u001b[0m\u001b[0m\n\u001b[1;32m     38\u001b[0m     history = text_image_model.fit([X_text[train], X_image[train]], y[train], \n\u001b[0;32m---> 39\u001b[0;31m                      epochs=epochs, batch_size=bs, validation_split=0.1, callbacks=callbacks_list)\n\u001b[0m\u001b[1;32m     40\u001b[0m     \u001b[0mplot_model_history\u001b[0m\u001b[0;34m(\u001b[0m\u001b[0mhistory\u001b[0m\u001b[0;34m)\u001b[0m\u001b[0;34m\u001b[0m\u001b[0m\n\u001b[1;32m     41\u001b[0m     \u001b[0mfilepath\u001b[0m\u001b[0;34m=\u001b[0m\u001b[0;34m\"early_fusion_weights/final_weight_image_text_k-fold_{}.hdf5\"\u001b[0m\u001b[0;34m.\u001b[0m\u001b[0mformat\u001b[0m\u001b[0;34m(\u001b[0m\u001b[0mcount\u001b[0m\u001b[0;34m)\u001b[0m\u001b[0;34m\u001b[0m\u001b[0m\n",
      "\u001b[0;32m~/.local/lib/python3.6/site-packages/keras/engine/training.py\u001b[0m in \u001b[0;36mfit\u001b[0;34m(self, x, y, batch_size, epochs, verbose, callbacks, validation_split, validation_data, shuffle, class_weight, sample_weight, initial_epoch, steps_per_epoch, validation_steps, **kwargs)\u001b[0m\n\u001b[1;32m   1035\u001b[0m                                         \u001b[0minitial_epoch\u001b[0m\u001b[0;34m=\u001b[0m\u001b[0minitial_epoch\u001b[0m\u001b[0;34m,\u001b[0m\u001b[0;34m\u001b[0m\u001b[0m\n\u001b[1;32m   1036\u001b[0m                                         \u001b[0msteps_per_epoch\u001b[0m\u001b[0;34m=\u001b[0m\u001b[0msteps_per_epoch\u001b[0m\u001b[0;34m,\u001b[0m\u001b[0;34m\u001b[0m\u001b[0m\n\u001b[0;32m-> 1037\u001b[0;31m                                         validation_steps=validation_steps)\n\u001b[0m\u001b[1;32m   1038\u001b[0m \u001b[0;34m\u001b[0m\u001b[0m\n\u001b[1;32m   1039\u001b[0m     def evaluate(self, x=None, y=None,\n",
      "\u001b[0;32m~/.local/lib/python3.6/site-packages/keras/engine/training_arrays.py\u001b[0m in \u001b[0;36mfit_loop\u001b[0;34m(model, f, ins, out_labels, batch_size, epochs, verbose, callbacks, val_f, val_ins, shuffle, callback_metrics, initial_epoch, steps_per_epoch, validation_steps)\u001b[0m\n\u001b[1;32m    197\u001b[0m                     \u001b[0mins_batch\u001b[0m\u001b[0;34m[\u001b[0m\u001b[0mi\u001b[0m\u001b[0;34m]\u001b[0m \u001b[0;34m=\u001b[0m \u001b[0mins_batch\u001b[0m\u001b[0;34m[\u001b[0m\u001b[0mi\u001b[0m\u001b[0;34m]\u001b[0m\u001b[0;34m.\u001b[0m\u001b[0mtoarray\u001b[0m\u001b[0;34m(\u001b[0m\u001b[0;34m)\u001b[0m\u001b[0;34m\u001b[0m\u001b[0m\n\u001b[1;32m    198\u001b[0m \u001b[0;34m\u001b[0m\u001b[0m\n\u001b[0;32m--> 199\u001b[0;31m                 \u001b[0mouts\u001b[0m \u001b[0;34m=\u001b[0m \u001b[0mf\u001b[0m\u001b[0;34m(\u001b[0m\u001b[0mins_batch\u001b[0m\u001b[0;34m)\u001b[0m\u001b[0;34m\u001b[0m\u001b[0m\n\u001b[0m\u001b[1;32m    200\u001b[0m                 \u001b[0mouts\u001b[0m \u001b[0;34m=\u001b[0m \u001b[0mto_list\u001b[0m\u001b[0;34m(\u001b[0m\u001b[0mouts\u001b[0m\u001b[0;34m)\u001b[0m\u001b[0;34m\u001b[0m\u001b[0m\n\u001b[1;32m    201\u001b[0m                 \u001b[0;32mfor\u001b[0m \u001b[0ml\u001b[0m\u001b[0;34m,\u001b[0m \u001b[0mo\u001b[0m \u001b[0;32min\u001b[0m \u001b[0mzip\u001b[0m\u001b[0;34m(\u001b[0m\u001b[0mout_labels\u001b[0m\u001b[0;34m,\u001b[0m \u001b[0mouts\u001b[0m\u001b[0;34m)\u001b[0m\u001b[0;34m:\u001b[0m\u001b[0;34m\u001b[0m\u001b[0m\n",
      "\u001b[0;32m~/.local/lib/python3.6/site-packages/keras/backend/tensorflow_backend.py\u001b[0m in \u001b[0;36m__call__\u001b[0;34m(self, inputs)\u001b[0m\n\u001b[1;32m   2664\u001b[0m                 \u001b[0;32mreturn\u001b[0m \u001b[0mself\u001b[0m\u001b[0;34m.\u001b[0m\u001b[0m_legacy_call\u001b[0m\u001b[0;34m(\u001b[0m\u001b[0minputs\u001b[0m\u001b[0;34m)\u001b[0m\u001b[0;34m\u001b[0m\u001b[0m\n\u001b[1;32m   2665\u001b[0m \u001b[0;34m\u001b[0m\u001b[0m\n\u001b[0;32m-> 2666\u001b[0;31m             \u001b[0;32mreturn\u001b[0m \u001b[0mself\u001b[0m\u001b[0;34m.\u001b[0m\u001b[0m_call\u001b[0m\u001b[0;34m(\u001b[0m\u001b[0minputs\u001b[0m\u001b[0;34m)\u001b[0m\u001b[0;34m\u001b[0m\u001b[0m\n\u001b[0m\u001b[1;32m   2667\u001b[0m         \u001b[0;32melse\u001b[0m\u001b[0;34m:\u001b[0m\u001b[0;34m\u001b[0m\u001b[0m\n\u001b[1;32m   2668\u001b[0m             \u001b[0;32mif\u001b[0m \u001b[0mpy_any\u001b[0m\u001b[0;34m(\u001b[0m\u001b[0mis_tensor\u001b[0m\u001b[0;34m(\u001b[0m\u001b[0mx\u001b[0m\u001b[0;34m)\u001b[0m \u001b[0;32mfor\u001b[0m \u001b[0mx\u001b[0m \u001b[0;32min\u001b[0m \u001b[0minputs\u001b[0m\u001b[0;34m)\u001b[0m\u001b[0;34m:\u001b[0m\u001b[0;34m\u001b[0m\u001b[0m\n",
      "\u001b[0;32m~/.local/lib/python3.6/site-packages/keras/backend/tensorflow_backend.py\u001b[0m in \u001b[0;36m_call\u001b[0;34m(self, inputs)\u001b[0m\n\u001b[1;32m   2634\u001b[0m                                 \u001b[0msymbol_vals\u001b[0m\u001b[0;34m,\u001b[0m\u001b[0;34m\u001b[0m\u001b[0m\n\u001b[1;32m   2635\u001b[0m                                 session)\n\u001b[0;32m-> 2636\u001b[0;31m         \u001b[0mfetched\u001b[0m \u001b[0;34m=\u001b[0m \u001b[0mself\u001b[0m\u001b[0;34m.\u001b[0m\u001b[0m_callable_fn\u001b[0m\u001b[0;34m(\u001b[0m\u001b[0;34m*\u001b[0m\u001b[0marray_vals\u001b[0m\u001b[0;34m)\u001b[0m\u001b[0;34m\u001b[0m\u001b[0m\n\u001b[0m\u001b[1;32m   2637\u001b[0m         \u001b[0;32mreturn\u001b[0m \u001b[0mfetched\u001b[0m\u001b[0;34m[\u001b[0m\u001b[0;34m:\u001b[0m\u001b[0mlen\u001b[0m\u001b[0;34m(\u001b[0m\u001b[0mself\u001b[0m\u001b[0;34m.\u001b[0m\u001b[0moutputs\u001b[0m\u001b[0;34m)\u001b[0m\u001b[0;34m]\u001b[0m\u001b[0;34m\u001b[0m\u001b[0m\n\u001b[1;32m   2638\u001b[0m \u001b[0;34m\u001b[0m\u001b[0m\n",
      "\u001b[0;32m~/.local/lib/python3.6/site-packages/tensorflow/python/client/session.py\u001b[0m in \u001b[0;36m__call__\u001b[0;34m(self, *args, **kwargs)\u001b[0m\n\u001b[1;32m   1380\u001b[0m           ret = tf_session.TF_SessionRunCallable(\n\u001b[1;32m   1381\u001b[0m               \u001b[0mself\u001b[0m\u001b[0;34m.\u001b[0m\u001b[0m_session\u001b[0m\u001b[0;34m.\u001b[0m\u001b[0m_session\u001b[0m\u001b[0;34m,\u001b[0m \u001b[0mself\u001b[0m\u001b[0;34m.\u001b[0m\u001b[0m_handle\u001b[0m\u001b[0;34m,\u001b[0m \u001b[0margs\u001b[0m\u001b[0;34m,\u001b[0m \u001b[0mstatus\u001b[0m\u001b[0;34m,\u001b[0m\u001b[0;34m\u001b[0m\u001b[0m\n\u001b[0;32m-> 1382\u001b[0;31m               run_metadata_ptr)\n\u001b[0m\u001b[1;32m   1383\u001b[0m         \u001b[0;32mif\u001b[0m \u001b[0mrun_metadata\u001b[0m\u001b[0;34m:\u001b[0m\u001b[0;34m\u001b[0m\u001b[0m\n\u001b[1;32m   1384\u001b[0m           \u001b[0mproto_data\u001b[0m \u001b[0;34m=\u001b[0m \u001b[0mtf_session\u001b[0m\u001b[0;34m.\u001b[0m\u001b[0mTF_GetBuffer\u001b[0m\u001b[0;34m(\u001b[0m\u001b[0mrun_metadata_ptr\u001b[0m\u001b[0;34m)\u001b[0m\u001b[0;34m\u001b[0m\u001b[0m\n",
      "\u001b[0;31mKeyboardInterrupt\u001b[0m: "
     ]
    }
   ],
   "source": [
    "'''Have to make the y_train onehot encoded otherwise it wont predict properly'''\n",
    "'''When using validation_split = 0.10 it takes last 10% of data, so if \n",
    "your kfold does not shuffle it well enough it will give low validation \n",
    "accuracy, and in this case it wont even train class 16 well. Class 16\n",
    "is the last class in the list. By coincidence, we have 314 images per \n",
    "class in our training set. When we pull the last 10 percent of the images\n",
    "for validation, it is also 314 images, exactly missing one class. This\n",
    "is why we get such a low validation score, it does not see one class and\n",
    "cant really train that well because of it. It improves a little, but is crap.\n",
    "Keras Documentation: validation_split: Float between 0 and 1. Fraction \n",
    "of the training data to be used as validation data. The model will set \n",
    "apart this fraction of the training data, will not train on it, and will \n",
    "evaluate the loss and any model metrics on this data at the end of each \n",
    "epoch. The validation data is selected from the last samples in the \n",
    "x and y data provided, before shuffling.\n",
    "Performing random.shuffle(train) solves the problem\n",
    "'''\n",
    "\n",
    "#set K folds to 5\n",
    "cvscores = []\n",
    "count = 1\n",
    "confusion_matrix_list = []\n",
    "report_list = []\n",
    "\n",
    "for key, val in kfolds.items():\n",
    "    print(key)\n",
    "    train = val['train']\n",
    "    test = val['test']\n",
    "    \n",
    "    print('K-: {}'.format(key))\n",
    "    print(\"Samples from Training\")\n",
    "    print_samples(samples=train, images=X_image, text=X_text, tokenizer=tokenizer)\n",
    "    print(\"============================\")\n",
    "    \n",
    "    print(\"Samples from Testing\")\n",
    "    print_samples(samples=test, images=X_image, text=X_text, tokenizer=tokenizer)\n",
    "    print(\"============================\")\n",
    "    \n",
    "    text_image_model = Generate_Model(model_type = 'multimodal')\n",
    "    text_image_model.compile(optimizer='adam', loss='categorical_crossentropy', metrics=['accuracy'])\n",
    "    filepath=\"early_fusion_weights/best_weight_image_text_k-fold_{}.hdf5\".format(count)\n",
    "    checkpoint = MultiGPUCheckpoint(filepath, monitor='val_acc', verbose=1, save_best_only=True, mode='max')\n",
    "    callbacks_list = [reduce_lr, checkpoint, early_stopping]\n",
    "\n",
    "    history = text_image_model.fit([X_text[train], X_image[train]], y[train], \n",
    "                     epochs=epochs, batch_size=bs, validation_split=0.1, callbacks=callbacks_list)\n",
    "    plot_model_history(history)\n",
    "    filepath=\"early_fusion_weights/final_weight_image_text_k-fold_{}.hdf5\".format(count)\n",
    "    text_image_model.save_weights(filepath)\n",
    "    scores = text_image_model.evaluate([X_text[test], X_image[test]], y[test], verbose=0)\n",
    "    print('Results from K-fold: {}'.format(count))\n",
    "    print(\"%s: %.2f%%\" % (text_image_model.metrics_names[1], scores[1]*100))\n",
    "    cvscores.append(scores[1] * 100)\n",
    "    y_hat = test_model(text_image_model, zip(X_text[test], X_image[test], y[test]), image = True, text = True, \n",
    "                       class_names=class_names)\n",
    "    cm = confusion_matrix([np.argmax(t) for t in y[test]], y_hat)\n",
    "    confusion_matrix_list.append(pd.DataFrame(cm, index=class_names, columns=class_names))\n",
    "    cr = classification_report([np.argmax(t) for t in y[test]], y_hat, target_names=class_names)\n",
    "    report_list.append(classification_report_df(cr))\n",
    "    count += 1\n",
    "    print('================================================')\n",
    "    \n",
    "print('Average for kfold accuracy and stdev')\n",
    "print(\"%.2f%% (+/- %.2f%%)\" % (np.mean(cvscores), np.std(cvscores)))\n",
    "print(\"Average classification report for all folds\")\n",
    "print(df_mean(report_list))"
   ]
  },
  {
   "cell_type": "markdown",
   "metadata": {},
   "source": [
    "### View images"
   ]
  },
  {
   "cell_type": "code",
   "execution_count": null,
   "metadata": {},
   "outputs": [],
   "source": [
    "#convert to categorical from one-hot\n",
    "y_hat_fig = y_hat#[ np.argmax(t) for t in y_hat ] #y_hat is already in the encoded format\n",
    "y_test_fig = [ np.argmax(t) for t in y[test] ]\n",
    "test_wrong = [im for im in zip(X_image[test], y_hat_fig,y_test_fig) if im[1] != im[2]]#Need this for images\n",
    "import matplotlib.pyplot as plt\n",
    "print('blue = ground truth, red = prediction')\n",
    "plt.figure(figsize=(20, 20), dpi=300)\n",
    "for ind, val in enumerate(test_wrong[:100]):\n",
    "    plt.subplots_adjust(left=0, right=1, bottom=0, top=1)\n",
    "    plt.subplot(10, 12, ind + 1)\n",
    "    im = val[0]\n",
    "    plt.axis(\"off\")\n",
    "    plt.text(0, 0, NN_Class_Names[val[2]], fontsize=14, color='blue')\n",
    "    plt.text(60, 0, NN_Class_Names[val[1]], fontsize=14, color='red')\n",
    "    plt.imshow(im, cmap='gray')"
   ]
  },
  {
   "cell_type": "code",
   "execution_count": null,
   "metadata": {},
   "outputs": [],
   "source": []
  }
 ],
 "metadata": {
  "kernelspec": {
   "display_name": "Python 3",
   "language": "python",
   "name": "python3"
  },
  "language_info": {
   "codemirror_mode": {
    "name": "ipython",
    "version": 3
   },
   "file_extension": ".py",
   "mimetype": "text/x-python",
   "name": "python",
   "nbconvert_exporter": "python",
   "pygments_lexer": "ipython3",
   "version": "3.6.5"
  }
 },
 "nbformat": 4,
 "nbformat_minor": 2
}
